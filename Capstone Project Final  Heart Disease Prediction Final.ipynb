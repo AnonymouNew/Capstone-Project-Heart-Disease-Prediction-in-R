{
 "cells": [
  {
   "cell_type": "markdown",
   "id": "34de091f",
   "metadata": {},
   "source": [
    "# Title : Heart Disease Prediction using R\n",
    "## Author : Abhishek Chauhan \n",
    "## ID : MCS21024\n",
    "## ```````````````````````````````````````````````````````````````````````"
   ]
  },
  {
   "cell_type": "markdown",
   "id": "206c83e5",
   "metadata": {},
   "source": [
    "# Installing packages"
   ]
  },
  {
   "cell_type": "code",
   "execution_count": 53,
   "id": "72a879cb",
   "metadata": {
    "scrolled": true
   },
   "outputs": [
    {
     "name": "stderr",
     "output_type": "stream",
     "text": [
      "Warning message:\n",
      "\"package 'tidyverse' is in use and will not be installed\"\n",
      "Warning message:\n",
      "\"package 'repr' is in use and will not be installed\"\n",
      "Warning message:\n",
      "\"package 'corrplot' is in use and will not be installed\"\n",
      "Warning message:\n",
      "\"package 'ggplot2' is in use and will not be installed\"\n",
      "Warning message:\n",
      "\"package 'pROC' is in use and will not be installed\"\n",
      "Warning message:\n",
      "\"package 'kernlab' is in use and will not be installed\"\n"
     ]
    }
   ],
   "source": [
    "install.packages(\"tidyverse\")\n",
    "install.packages(\"repr\")\n",
    "install.packages(\"corrplot\")\n",
    "install.packages(\"ggplot2\")\n",
    "install.packages(\"pROC\")\n",
    "install.packages(\"kernlab\")"
   ]
  },
  {
   "cell_type": "markdown",
   "id": "c697975b",
   "metadata": {},
   "source": [
    "# Loading libraries"
   ]
  },
  {
   "cell_type": "code",
   "execution_count": 75,
   "id": "f2cd6e14",
   "metadata": {
    "scrolled": true
   },
   "outputs": [],
   "source": [
    "library(tidyverse)\n",
    "library(repr)\n",
    "library(corrplot)\n",
    "library(ggplot2)\n",
    "library(pROC)\n",
    "library(kernlab)"
   ]
  },
  {
   "cell_type": "markdown",
   "id": "608d6fb2",
   "metadata": {},
   "source": [
    "# Data Preparation"
   ]
  },
  {
   "cell_type": "code",
   "execution_count": 76,
   "id": "8a35a4d4",
   "metadata": {},
   "outputs": [],
   "source": [
    "heart.data <- read.csv(\"heart.csv\")"
   ]
  },
  {
   "cell_type": "markdown",
   "id": "c8094c8c",
   "metadata": {},
   "source": [
    "## Exploring data"
   ]
  },
  {
   "cell_type": "code",
   "execution_count": 77,
   "id": "cc0b240c",
   "metadata": {},
   "outputs": [
    {
     "data": {
      "text/html": [
       "<table class=\"dataframe\">\n",
       "<caption>A data.frame: 6 × 14</caption>\n",
       "<thead>\n",
       "\t<tr><th></th><th scope=col>age</th><th scope=col>sex</th><th scope=col>cp</th><th scope=col>trestbps</th><th scope=col>chol</th><th scope=col>fbs</th><th scope=col>restecg</th><th scope=col>thalach</th><th scope=col>exang</th><th scope=col>oldpeak</th><th scope=col>slope</th><th scope=col>ca</th><th scope=col>thal</th><th scope=col>target</th></tr>\n",
       "\t<tr><th></th><th scope=col>&lt;int&gt;</th><th scope=col>&lt;int&gt;</th><th scope=col>&lt;int&gt;</th><th scope=col>&lt;int&gt;</th><th scope=col>&lt;int&gt;</th><th scope=col>&lt;int&gt;</th><th scope=col>&lt;int&gt;</th><th scope=col>&lt;int&gt;</th><th scope=col>&lt;int&gt;</th><th scope=col>&lt;dbl&gt;</th><th scope=col>&lt;int&gt;</th><th scope=col>&lt;int&gt;</th><th scope=col>&lt;int&gt;</th><th scope=col>&lt;int&gt;</th></tr>\n",
       "</thead>\n",
       "<tbody>\n",
       "\t<tr><th scope=row>1</th><td>63</td><td>1</td><td>3</td><td>145</td><td>233</td><td>1</td><td>0</td><td>150</td><td>0</td><td>2.3</td><td>0</td><td>0</td><td>1</td><td>1</td></tr>\n",
       "\t<tr><th scope=row>2</th><td>37</td><td>1</td><td>2</td><td>130</td><td>250</td><td>0</td><td>1</td><td>187</td><td>0</td><td>3.5</td><td>0</td><td>0</td><td>2</td><td>1</td></tr>\n",
       "\t<tr><th scope=row>3</th><td>41</td><td>0</td><td>1</td><td>130</td><td>204</td><td>0</td><td>0</td><td>172</td><td>0</td><td>1.4</td><td>2</td><td>0</td><td>2</td><td>1</td></tr>\n",
       "\t<tr><th scope=row>4</th><td>56</td><td>1</td><td>1</td><td>120</td><td>236</td><td>0</td><td>1</td><td>178</td><td>0</td><td>0.8</td><td>2</td><td>0</td><td>2</td><td>1</td></tr>\n",
       "\t<tr><th scope=row>5</th><td>57</td><td>0</td><td>0</td><td>120</td><td>354</td><td>0</td><td>1</td><td>163</td><td>1</td><td>0.6</td><td>2</td><td>0</td><td>2</td><td>1</td></tr>\n",
       "\t<tr><th scope=row>6</th><td>57</td><td>1</td><td>0</td><td>140</td><td>192</td><td>0</td><td>1</td><td>148</td><td>0</td><td>0.4</td><td>1</td><td>0</td><td>1</td><td>1</td></tr>\n",
       "</tbody>\n",
       "</table>\n"
      ],
      "text/latex": [
       "A data.frame: 6 × 14\n",
       "\\begin{tabular}{r|llllllllllllll}\n",
       "  & age & sex & cp & trestbps & chol & fbs & restecg & thalach & exang & oldpeak & slope & ca & thal & target\\\\\n",
       "  & <int> & <int> & <int> & <int> & <int> & <int> & <int> & <int> & <int> & <dbl> & <int> & <int> & <int> & <int>\\\\\n",
       "\\hline\n",
       "\t1 & 63 & 1 & 3 & 145 & 233 & 1 & 0 & 150 & 0 & 2.3 & 0 & 0 & 1 & 1\\\\\n",
       "\t2 & 37 & 1 & 2 & 130 & 250 & 0 & 1 & 187 & 0 & 3.5 & 0 & 0 & 2 & 1\\\\\n",
       "\t3 & 41 & 0 & 1 & 130 & 204 & 0 & 0 & 172 & 0 & 1.4 & 2 & 0 & 2 & 1\\\\\n",
       "\t4 & 56 & 1 & 1 & 120 & 236 & 0 & 1 & 178 & 0 & 0.8 & 2 & 0 & 2 & 1\\\\\n",
       "\t5 & 57 & 0 & 0 & 120 & 354 & 0 & 1 & 163 & 1 & 0.6 & 2 & 0 & 2 & 1\\\\\n",
       "\t6 & 57 & 1 & 0 & 140 & 192 & 0 & 1 & 148 & 0 & 0.4 & 1 & 0 & 1 & 1\\\\\n",
       "\\end{tabular}\n"
      ],
      "text/markdown": [
       "\n",
       "A data.frame: 6 × 14\n",
       "\n",
       "| <!--/--> | age &lt;int&gt; | sex &lt;int&gt; | cp &lt;int&gt; | trestbps &lt;int&gt; | chol &lt;int&gt; | fbs &lt;int&gt; | restecg &lt;int&gt; | thalach &lt;int&gt; | exang &lt;int&gt; | oldpeak &lt;dbl&gt; | slope &lt;int&gt; | ca &lt;int&gt; | thal &lt;int&gt; | target &lt;int&gt; |\n",
       "|---|---|---|---|---|---|---|---|---|---|---|---|---|---|---|\n",
       "| 1 | 63 | 1 | 3 | 145 | 233 | 1 | 0 | 150 | 0 | 2.3 | 0 | 0 | 1 | 1 |\n",
       "| 2 | 37 | 1 | 2 | 130 | 250 | 0 | 1 | 187 | 0 | 3.5 | 0 | 0 | 2 | 1 |\n",
       "| 3 | 41 | 0 | 1 | 130 | 204 | 0 | 0 | 172 | 0 | 1.4 | 2 | 0 | 2 | 1 |\n",
       "| 4 | 56 | 1 | 1 | 120 | 236 | 0 | 1 | 178 | 0 | 0.8 | 2 | 0 | 2 | 1 |\n",
       "| 5 | 57 | 0 | 0 | 120 | 354 | 0 | 1 | 163 | 1 | 0.6 | 2 | 0 | 2 | 1 |\n",
       "| 6 | 57 | 1 | 0 | 140 | 192 | 0 | 1 | 148 | 0 | 0.4 | 1 | 0 | 1 | 1 |\n",
       "\n"
      ],
      "text/plain": [
       "  age sex cp trestbps chol fbs restecg thalach exang oldpeak slope ca thal\n",
       "1 63  1   3  145      233  1   0       150     0     2.3     0     0  1   \n",
       "2 37  1   2  130      250  0   1       187     0     3.5     0     0  2   \n",
       "3 41  0   1  130      204  0   0       172     0     1.4     2     0  2   \n",
       "4 56  1   1  120      236  0   1       178     0     0.8     2     0  2   \n",
       "5 57  0   0  120      354  0   1       163     1     0.6     2     0  2   \n",
       "6 57  1   0  140      192  0   1       148     0     0.4     1     0  1   \n",
       "  target\n",
       "1 1     \n",
       "2 1     \n",
       "3 1     \n",
       "4 1     \n",
       "5 1     \n",
       "6 1     "
      ]
     },
     "metadata": {},
     "output_type": "display_data"
    }
   ],
   "source": [
    "head(heart.data)"
   ]
  },
  {
   "cell_type": "code",
   "execution_count": 78,
   "id": "5160c374",
   "metadata": {},
   "outputs": [
    {
     "data": {
      "text/html": [
       "<style>\n",
       ".list-inline {list-style: none; margin:0; padding: 0}\n",
       ".list-inline>li {display: inline-block}\n",
       ".list-inline>li:not(:last-child)::after {content: \"\\00b7\"; padding: 0 .5ex}\n",
       "</style>\n",
       "<ol class=list-inline><li>303</li><li>14</li></ol>\n"
      ],
      "text/latex": [
       "\\begin{enumerate*}\n",
       "\\item 303\n",
       "\\item 14\n",
       "\\end{enumerate*}\n"
      ],
      "text/markdown": [
       "1. 303\n",
       "2. 14\n",
       "\n",
       "\n"
      ],
      "text/plain": [
       "[1] 303  14"
      ]
     },
     "metadata": {},
     "output_type": "display_data"
    }
   ],
   "source": [
    "dim(heart.data)"
   ]
  },
  {
   "cell_type": "code",
   "execution_count": 79,
   "id": "96eacaa3",
   "metadata": {},
   "outputs": [
    {
     "data": {
      "text/html": [
       "<table class=\"dataframe\">\n",
       "<caption>A data.frame: 6 × 14</caption>\n",
       "<thead>\n",
       "\t<tr><th></th><th scope=col>age</th><th scope=col>sex</th><th scope=col>cp</th><th scope=col>trestbps</th><th scope=col>chol</th><th scope=col>fbs</th><th scope=col>restecg</th><th scope=col>thalach</th><th scope=col>exang</th><th scope=col>oldpeak</th><th scope=col>slope</th><th scope=col>ca</th><th scope=col>thal</th><th scope=col>target</th></tr>\n",
       "\t<tr><th></th><th scope=col>&lt;int&gt;</th><th scope=col>&lt;int&gt;</th><th scope=col>&lt;int&gt;</th><th scope=col>&lt;int&gt;</th><th scope=col>&lt;int&gt;</th><th scope=col>&lt;int&gt;</th><th scope=col>&lt;int&gt;</th><th scope=col>&lt;int&gt;</th><th scope=col>&lt;int&gt;</th><th scope=col>&lt;dbl&gt;</th><th scope=col>&lt;int&gt;</th><th scope=col>&lt;int&gt;</th><th scope=col>&lt;int&gt;</th><th scope=col>&lt;int&gt;</th></tr>\n",
       "</thead>\n",
       "<tbody>\n",
       "\t<tr><th scope=row>298</th><td>59</td><td>1</td><td>0</td><td>164</td><td>176</td><td>1</td><td>0</td><td> 90</td><td>0</td><td>1.0</td><td>1</td><td>2</td><td>1</td><td>0</td></tr>\n",
       "\t<tr><th scope=row>299</th><td>57</td><td>0</td><td>0</td><td>140</td><td>241</td><td>0</td><td>1</td><td>123</td><td>1</td><td>0.2</td><td>1</td><td>0</td><td>3</td><td>0</td></tr>\n",
       "\t<tr><th scope=row>300</th><td>45</td><td>1</td><td>3</td><td>110</td><td>264</td><td>0</td><td>1</td><td>132</td><td>0</td><td>1.2</td><td>1</td><td>0</td><td>3</td><td>0</td></tr>\n",
       "\t<tr><th scope=row>301</th><td>68</td><td>1</td><td>0</td><td>144</td><td>193</td><td>1</td><td>1</td><td>141</td><td>0</td><td>3.4</td><td>1</td><td>2</td><td>3</td><td>0</td></tr>\n",
       "\t<tr><th scope=row>302</th><td>57</td><td>1</td><td>0</td><td>130</td><td>131</td><td>0</td><td>1</td><td>115</td><td>1</td><td>1.2</td><td>1</td><td>1</td><td>3</td><td>0</td></tr>\n",
       "\t<tr><th scope=row>303</th><td>57</td><td>0</td><td>1</td><td>130</td><td>236</td><td>0</td><td>0</td><td>174</td><td>0</td><td>0.0</td><td>1</td><td>1</td><td>2</td><td>0</td></tr>\n",
       "</tbody>\n",
       "</table>\n"
      ],
      "text/latex": [
       "A data.frame: 6 × 14\n",
       "\\begin{tabular}{r|llllllllllllll}\n",
       "  & age & sex & cp & trestbps & chol & fbs & restecg & thalach & exang & oldpeak & slope & ca & thal & target\\\\\n",
       "  & <int> & <int> & <int> & <int> & <int> & <int> & <int> & <int> & <int> & <dbl> & <int> & <int> & <int> & <int>\\\\\n",
       "\\hline\n",
       "\t298 & 59 & 1 & 0 & 164 & 176 & 1 & 0 &  90 & 0 & 1.0 & 1 & 2 & 1 & 0\\\\\n",
       "\t299 & 57 & 0 & 0 & 140 & 241 & 0 & 1 & 123 & 1 & 0.2 & 1 & 0 & 3 & 0\\\\\n",
       "\t300 & 45 & 1 & 3 & 110 & 264 & 0 & 1 & 132 & 0 & 1.2 & 1 & 0 & 3 & 0\\\\\n",
       "\t301 & 68 & 1 & 0 & 144 & 193 & 1 & 1 & 141 & 0 & 3.4 & 1 & 2 & 3 & 0\\\\\n",
       "\t302 & 57 & 1 & 0 & 130 & 131 & 0 & 1 & 115 & 1 & 1.2 & 1 & 1 & 3 & 0\\\\\n",
       "\t303 & 57 & 0 & 1 & 130 & 236 & 0 & 0 & 174 & 0 & 0.0 & 1 & 1 & 2 & 0\\\\\n",
       "\\end{tabular}\n"
      ],
      "text/markdown": [
       "\n",
       "A data.frame: 6 × 14\n",
       "\n",
       "| <!--/--> | age &lt;int&gt; | sex &lt;int&gt; | cp &lt;int&gt; | trestbps &lt;int&gt; | chol &lt;int&gt; | fbs &lt;int&gt; | restecg &lt;int&gt; | thalach &lt;int&gt; | exang &lt;int&gt; | oldpeak &lt;dbl&gt; | slope &lt;int&gt; | ca &lt;int&gt; | thal &lt;int&gt; | target &lt;int&gt; |\n",
       "|---|---|---|---|---|---|---|---|---|---|---|---|---|---|---|\n",
       "| 298 | 59 | 1 | 0 | 164 | 176 | 1 | 0 |  90 | 0 | 1.0 | 1 | 2 | 1 | 0 |\n",
       "| 299 | 57 | 0 | 0 | 140 | 241 | 0 | 1 | 123 | 1 | 0.2 | 1 | 0 | 3 | 0 |\n",
       "| 300 | 45 | 1 | 3 | 110 | 264 | 0 | 1 | 132 | 0 | 1.2 | 1 | 0 | 3 | 0 |\n",
       "| 301 | 68 | 1 | 0 | 144 | 193 | 1 | 1 | 141 | 0 | 3.4 | 1 | 2 | 3 | 0 |\n",
       "| 302 | 57 | 1 | 0 | 130 | 131 | 0 | 1 | 115 | 1 | 1.2 | 1 | 1 | 3 | 0 |\n",
       "| 303 | 57 | 0 | 1 | 130 | 236 | 0 | 0 | 174 | 0 | 0.0 | 1 | 1 | 2 | 0 |\n",
       "\n"
      ],
      "text/plain": [
       "    age sex cp trestbps chol fbs restecg thalach exang oldpeak slope ca thal\n",
       "298 59  1   0  164      176  1   0        90     0     1.0     1     2  1   \n",
       "299 57  0   0  140      241  0   1       123     1     0.2     1     0  3   \n",
       "300 45  1   3  110      264  0   1       132     0     1.2     1     0  3   \n",
       "301 68  1   0  144      193  1   1       141     0     3.4     1     2  3   \n",
       "302 57  1   0  130      131  0   1       115     1     1.2     1     1  3   \n",
       "303 57  0   1  130      236  0   0       174     0     0.0     1     1  2   \n",
       "    target\n",
       "298 0     \n",
       "299 0     \n",
       "300 0     \n",
       "301 0     \n",
       "302 0     \n",
       "303 0     "
      ]
     },
     "metadata": {},
     "output_type": "display_data"
    }
   ],
   "source": [
    "tail(heart.data)"
   ]
  },
  {
   "cell_type": "code",
   "execution_count": 80,
   "id": "1fbb4e88",
   "metadata": {},
   "outputs": [
    {
     "name": "stdout",
     "output_type": "stream",
     "text": [
      "Rows: 303\n",
      "Columns: 14\n",
      "$ age      \u001b[3m\u001b[90m<int>\u001b[39m\u001b[23m 63, 37, 41, 56, 57, 57, 56, 44, 52, 57, 54, 48, 49, 64, 58, 5…\n",
      "$ sex      \u001b[3m\u001b[90m<int>\u001b[39m\u001b[23m 1, 1, 0, 1, 0, 1, 0, 1, 1, 1, 1, 0, 1, 1, 0, 0, 0, 0, 1, 0, 1…\n",
      "$ cp       \u001b[3m\u001b[90m<int>\u001b[39m\u001b[23m 3, 2, 1, 1, 0, 0, 1, 1, 2, 2, 0, 2, 1, 3, 3, 2, 2, 3, 0, 3, 0…\n",
      "$ trestbps \u001b[3m\u001b[90m<int>\u001b[39m\u001b[23m 145, 130, 130, 120, 120, 140, 140, 120, 172, 150, 140, 130, 1…\n",
      "$ chol     \u001b[3m\u001b[90m<int>\u001b[39m\u001b[23m 233, 250, 204, 236, 354, 192, 294, 263, 199, 168, 239, 275, 2…\n",
      "$ fbs      \u001b[3m\u001b[90m<int>\u001b[39m\u001b[23m 1, 0, 0, 0, 0, 0, 0, 0, 1, 0, 0, 0, 0, 0, 1, 0, 0, 0, 0, 0, 0…\n",
      "$ restecg  \u001b[3m\u001b[90m<int>\u001b[39m\u001b[23m 0, 1, 0, 1, 1, 1, 0, 1, 1, 1, 1, 1, 1, 0, 0, 1, 1, 1, 1, 1, 1…\n",
      "$ thalach  \u001b[3m\u001b[90m<int>\u001b[39m\u001b[23m 150, 187, 172, 178, 163, 148, 153, 173, 162, 174, 160, 139, 1…\n",
      "$ exang    \u001b[3m\u001b[90m<int>\u001b[39m\u001b[23m 0, 0, 0, 0, 1, 0, 0, 0, 0, 0, 0, 0, 0, 1, 0, 0, 0, 0, 0, 0, 0…\n",
      "$ oldpeak  \u001b[3m\u001b[90m<dbl>\u001b[39m\u001b[23m 2.3, 3.5, 1.4, 0.8, 0.6, 0.4, 1.3, 0.0, 0.5, 1.6, 1.2, 0.2, 0…\n",
      "$ slope    \u001b[3m\u001b[90m<int>\u001b[39m\u001b[23m 0, 0, 2, 2, 2, 1, 1, 2, 2, 2, 2, 2, 2, 1, 2, 1, 2, 0, 2, 2, 1…\n",
      "$ ca       \u001b[3m\u001b[90m<int>\u001b[39m\u001b[23m 0, 0, 0, 0, 0, 0, 0, 0, 0, 0, 0, 0, 0, 0, 0, 0, 0, 0, 0, 2, 0…\n",
      "$ thal     \u001b[3m\u001b[90m<int>\u001b[39m\u001b[23m 1, 2, 2, 2, 2, 1, 2, 3, 3, 2, 2, 2, 2, 2, 2, 2, 2, 2, 2, 2, 3…\n",
      "$ target   \u001b[3m\u001b[90m<int>\u001b[39m\u001b[23m 1, 1, 1, 1, 1, 1, 1, 1, 1, 1, 1, 1, 1, 1, 1, 1, 1, 1, 1, 1, 1…\n"
     ]
    }
   ],
   "source": [
    "glimpse(heart.data)"
   ]
  },
  {
   "cell_type": "markdown",
   "id": "ff5f59d5",
   "metadata": {},
   "source": [
    "## Columns of data "
   ]
  },
  {
   "cell_type": "code",
   "execution_count": 81,
   "id": "cb5a030a",
   "metadata": {},
   "outputs": [
    {
     "data": {
      "text/html": [
       "<style>\n",
       ".list-inline {list-style: none; margin:0; padding: 0}\n",
       ".list-inline>li {display: inline-block}\n",
       ".list-inline>li:not(:last-child)::after {content: \"\\00b7\"; padding: 0 .5ex}\n",
       "</style>\n",
       "<ol class=list-inline><li>'age'</li><li>'sex'</li><li>'cp'</li><li>'trestbps'</li><li>'chol'</li><li>'fbs'</li><li>'restecg'</li><li>'thalach'</li><li>'exang'</li><li>'oldpeak'</li><li>'slope'</li><li>'ca'</li><li>'thal'</li><li>'target'</li></ol>\n"
      ],
      "text/latex": [
       "\\begin{enumerate*}\n",
       "\\item 'age'\n",
       "\\item 'sex'\n",
       "\\item 'cp'\n",
       "\\item 'trestbps'\n",
       "\\item 'chol'\n",
       "\\item 'fbs'\n",
       "\\item 'restecg'\n",
       "\\item 'thalach'\n",
       "\\item 'exang'\n",
       "\\item 'oldpeak'\n",
       "\\item 'slope'\n",
       "\\item 'ca'\n",
       "\\item 'thal'\n",
       "\\item 'target'\n",
       "\\end{enumerate*}\n"
      ],
      "text/markdown": [
       "1. 'age'\n",
       "2. 'sex'\n",
       "3. 'cp'\n",
       "4. 'trestbps'\n",
       "5. 'chol'\n",
       "6. 'fbs'\n",
       "7. 'restecg'\n",
       "8. 'thalach'\n",
       "9. 'exang'\n",
       "10. 'oldpeak'\n",
       "11. 'slope'\n",
       "12. 'ca'\n",
       "13. 'thal'\n",
       "14. 'target'\n",
       "\n",
       "\n"
      ],
      "text/plain": [
       " [1] \"age\"      \"sex\"      \"cp\"       \"trestbps\" \"chol\"     \"fbs\"     \n",
       " [7] \"restecg\"  \"thalach\"  \"exang\"    \"oldpeak\"  \"slope\"    \"ca\"      \n",
       "[13] \"thal\"     \"target\"  "
      ]
     },
     "metadata": {},
     "output_type": "display_data"
    }
   ],
   "source": [
    "colnames(heart.data)"
   ]
  },
  {
   "cell_type": "code",
   "execution_count": 82,
   "id": "8898c282",
   "metadata": {
    "scrolled": true
   },
   "outputs": [
    {
     "data": {
      "text/plain": [
       "      age             sex               cp           trestbps    \n",
       " Min.   :29.00   Min.   :0.0000   Min.   :0.000   Min.   : 94.0  \n",
       " 1st Qu.:47.50   1st Qu.:0.0000   1st Qu.:0.000   1st Qu.:120.0  \n",
       " Median :55.00   Median :1.0000   Median :1.000   Median :130.0  \n",
       " Mean   :54.37   Mean   :0.6832   Mean   :0.967   Mean   :131.6  \n",
       " 3rd Qu.:61.00   3rd Qu.:1.0000   3rd Qu.:2.000   3rd Qu.:140.0  \n",
       " Max.   :77.00   Max.   :1.0000   Max.   :3.000   Max.   :200.0  \n",
       "      chol            fbs            restecg          thalach     \n",
       " Min.   :126.0   Min.   :0.0000   Min.   :0.0000   Min.   : 71.0  \n",
       " 1st Qu.:211.0   1st Qu.:0.0000   1st Qu.:0.0000   1st Qu.:133.5  \n",
       " Median :240.0   Median :0.0000   Median :1.0000   Median :153.0  \n",
       " Mean   :246.3   Mean   :0.1485   Mean   :0.5281   Mean   :149.6  \n",
       " 3rd Qu.:274.5   3rd Qu.:0.0000   3rd Qu.:1.0000   3rd Qu.:166.0  \n",
       " Max.   :564.0   Max.   :1.0000   Max.   :2.0000   Max.   :202.0  \n",
       "     exang           oldpeak         slope             ca        \n",
       " Min.   :0.0000   Min.   :0.00   Min.   :0.000   Min.   :0.0000  \n",
       " 1st Qu.:0.0000   1st Qu.:0.00   1st Qu.:1.000   1st Qu.:0.0000  \n",
       " Median :0.0000   Median :0.80   Median :1.000   Median :0.0000  \n",
       " Mean   :0.3267   Mean   :1.04   Mean   :1.399   Mean   :0.7294  \n",
       " 3rd Qu.:1.0000   3rd Qu.:1.60   3rd Qu.:2.000   3rd Qu.:1.0000  \n",
       " Max.   :1.0000   Max.   :6.20   Max.   :2.000   Max.   :4.0000  \n",
       "      thal           target      \n",
       " Min.   :0.000   Min.   :0.0000  \n",
       " 1st Qu.:2.000   1st Qu.:0.0000  \n",
       " Median :2.000   Median :1.0000  \n",
       " Mean   :2.314   Mean   :0.5446  \n",
       " 3rd Qu.:3.000   3rd Qu.:1.0000  \n",
       " Max.   :3.000   Max.   :1.0000  "
      ]
     },
     "metadata": {},
     "output_type": "display_data"
    }
   ],
   "source": [
    "summary(heart.data)"
   ]
  },
  {
   "cell_type": "markdown",
   "id": "56fc3853",
   "metadata": {},
   "source": [
    "## Data Transformation"
   ]
  },
  {
   "cell_type": "code",
   "execution_count": 84,
   "id": "face7615",
   "metadata": {},
   "outputs": [],
   "source": [
    "data2 <- heart.data %>%\n",
    "  mutate(sex = if_else(sex == 1, \"MALE\", \"FEMALE\"),\n",
    "         fbs = if_else(fbs == 1, \">120\", \"<=120\"),\n",
    "         exang = if_else(exang == 1, \"YES\" ,\"NO\"),\n",
    "         cp = if_else(cp == 1, \"ATYPICAL ANGINA\",\n",
    "                      if_else(cp == 2, \"NON-ANGINAL PAIN\", \"ASYMPTOMATIC\")),\n",
    "         restecg = if_else(restecg == 0, \"NORMAL\",\n",
    "                           if_else(restecg == 1, \"ABNORMALITY\", \"PROBABLE OR DEFINITE\")),\n",
    "         slope = as.factor(slope),\n",
    "         ca = as.factor(ca),\n",
    "         thal = as.factor(thal),\n",
    "         target = if_else(target == 1, \"YES\", \"NO\")\n",
    "         ) %>% \n",
    "  mutate_if(is.character, as.factor) %>% \n",
    "  dplyr::select(target, sex, fbs, exang, cp, restecg, slope, ca, thal, everything())"
   ]
  },
  {
   "cell_type": "code",
   "execution_count": 85,
   "id": "0eeda90f",
   "metadata": {
    "scrolled": true
   },
   "outputs": [
    {
     "data": {
      "text/html": [
       "<table class=\"dataframe\">\n",
       "<caption>A data.frame: 6 × 14</caption>\n",
       "<thead>\n",
       "\t<tr><th></th><th scope=col>age</th><th scope=col>sex</th><th scope=col>cp</th><th scope=col>trestbps</th><th scope=col>chol</th><th scope=col>fbs</th><th scope=col>restecg</th><th scope=col>thalach</th><th scope=col>exang</th><th scope=col>oldpeak</th><th scope=col>slope</th><th scope=col>ca</th><th scope=col>thal</th><th scope=col>target</th></tr>\n",
       "\t<tr><th></th><th scope=col>&lt;int&gt;</th><th scope=col>&lt;int&gt;</th><th scope=col>&lt;int&gt;</th><th scope=col>&lt;int&gt;</th><th scope=col>&lt;int&gt;</th><th scope=col>&lt;int&gt;</th><th scope=col>&lt;int&gt;</th><th scope=col>&lt;int&gt;</th><th scope=col>&lt;int&gt;</th><th scope=col>&lt;dbl&gt;</th><th scope=col>&lt;int&gt;</th><th scope=col>&lt;int&gt;</th><th scope=col>&lt;int&gt;</th><th scope=col>&lt;int&gt;</th></tr>\n",
       "</thead>\n",
       "<tbody>\n",
       "\t<tr><th scope=row>298</th><td>59</td><td>1</td><td>0</td><td>164</td><td>176</td><td>1</td><td>0</td><td> 90</td><td>0</td><td>1.0</td><td>1</td><td>2</td><td>1</td><td>0</td></tr>\n",
       "\t<tr><th scope=row>299</th><td>57</td><td>0</td><td>0</td><td>140</td><td>241</td><td>0</td><td>1</td><td>123</td><td>1</td><td>0.2</td><td>1</td><td>0</td><td>3</td><td>0</td></tr>\n",
       "\t<tr><th scope=row>300</th><td>45</td><td>1</td><td>3</td><td>110</td><td>264</td><td>0</td><td>1</td><td>132</td><td>0</td><td>1.2</td><td>1</td><td>0</td><td>3</td><td>0</td></tr>\n",
       "\t<tr><th scope=row>301</th><td>68</td><td>1</td><td>0</td><td>144</td><td>193</td><td>1</td><td>1</td><td>141</td><td>0</td><td>3.4</td><td>1</td><td>2</td><td>3</td><td>0</td></tr>\n",
       "\t<tr><th scope=row>302</th><td>57</td><td>1</td><td>0</td><td>130</td><td>131</td><td>0</td><td>1</td><td>115</td><td>1</td><td>1.2</td><td>1</td><td>1</td><td>3</td><td>0</td></tr>\n",
       "\t<tr><th scope=row>303</th><td>57</td><td>0</td><td>1</td><td>130</td><td>236</td><td>0</td><td>0</td><td>174</td><td>0</td><td>0.0</td><td>1</td><td>1</td><td>2</td><td>0</td></tr>\n",
       "</tbody>\n",
       "</table>\n"
      ],
      "text/latex": [
       "A data.frame: 6 × 14\n",
       "\\begin{tabular}{r|llllllllllllll}\n",
       "  & age & sex & cp & trestbps & chol & fbs & restecg & thalach & exang & oldpeak & slope & ca & thal & target\\\\\n",
       "  & <int> & <int> & <int> & <int> & <int> & <int> & <int> & <int> & <int> & <dbl> & <int> & <int> & <int> & <int>\\\\\n",
       "\\hline\n",
       "\t298 & 59 & 1 & 0 & 164 & 176 & 1 & 0 &  90 & 0 & 1.0 & 1 & 2 & 1 & 0\\\\\n",
       "\t299 & 57 & 0 & 0 & 140 & 241 & 0 & 1 & 123 & 1 & 0.2 & 1 & 0 & 3 & 0\\\\\n",
       "\t300 & 45 & 1 & 3 & 110 & 264 & 0 & 1 & 132 & 0 & 1.2 & 1 & 0 & 3 & 0\\\\\n",
       "\t301 & 68 & 1 & 0 & 144 & 193 & 1 & 1 & 141 & 0 & 3.4 & 1 & 2 & 3 & 0\\\\\n",
       "\t302 & 57 & 1 & 0 & 130 & 131 & 0 & 1 & 115 & 1 & 1.2 & 1 & 1 & 3 & 0\\\\\n",
       "\t303 & 57 & 0 & 1 & 130 & 236 & 0 & 0 & 174 & 0 & 0.0 & 1 & 1 & 2 & 0\\\\\n",
       "\\end{tabular}\n"
      ],
      "text/markdown": [
       "\n",
       "A data.frame: 6 × 14\n",
       "\n",
       "| <!--/--> | age &lt;int&gt; | sex &lt;int&gt; | cp &lt;int&gt; | trestbps &lt;int&gt; | chol &lt;int&gt; | fbs &lt;int&gt; | restecg &lt;int&gt; | thalach &lt;int&gt; | exang &lt;int&gt; | oldpeak &lt;dbl&gt; | slope &lt;int&gt; | ca &lt;int&gt; | thal &lt;int&gt; | target &lt;int&gt; |\n",
       "|---|---|---|---|---|---|---|---|---|---|---|---|---|---|---|\n",
       "| 298 | 59 | 1 | 0 | 164 | 176 | 1 | 0 |  90 | 0 | 1.0 | 1 | 2 | 1 | 0 |\n",
       "| 299 | 57 | 0 | 0 | 140 | 241 | 0 | 1 | 123 | 1 | 0.2 | 1 | 0 | 3 | 0 |\n",
       "| 300 | 45 | 1 | 3 | 110 | 264 | 0 | 1 | 132 | 0 | 1.2 | 1 | 0 | 3 | 0 |\n",
       "| 301 | 68 | 1 | 0 | 144 | 193 | 1 | 1 | 141 | 0 | 3.4 | 1 | 2 | 3 | 0 |\n",
       "| 302 | 57 | 1 | 0 | 130 | 131 | 0 | 1 | 115 | 1 | 1.2 | 1 | 1 | 3 | 0 |\n",
       "| 303 | 57 | 0 | 1 | 130 | 236 | 0 | 0 | 174 | 0 | 0.0 | 1 | 1 | 2 | 0 |\n",
       "\n"
      ],
      "text/plain": [
       "    age sex cp trestbps chol fbs restecg thalach exang oldpeak slope ca thal\n",
       "298 59  1   0  164      176  1   0        90     0     1.0     1     2  1   \n",
       "299 57  0   0  140      241  0   1       123     1     0.2     1     0  3   \n",
       "300 45  1   3  110      264  0   1       132     0     1.2     1     0  3   \n",
       "301 68  1   0  144      193  1   1       141     0     3.4     1     2  3   \n",
       "302 57  1   0  130      131  0   1       115     1     1.2     1     1  3   \n",
       "303 57  0   1  130      236  0   0       174     0     0.0     1     1  2   \n",
       "    target\n",
       "298 0     \n",
       "299 0     \n",
       "300 0     \n",
       "301 0     \n",
       "302 0     \n",
       "303 0     "
      ]
     },
     "metadata": {},
     "output_type": "display_data"
    }
   ],
   "source": [
    "tail(heart.data)"
   ]
  },
  {
   "cell_type": "markdown",
   "id": "69af23e5",
   "metadata": {},
   "source": [
    "## Data Visualization"
   ]
  },
  {
   "cell_type": "code",
   "execution_count": 211,
   "id": "7cf952fc",
   "metadata": {},
   "outputs": [
    {
     "data": {
      "image/png": "[encoded data removed]",
      "text/plain": [
       "Plot with title \"Fate by Age\""
      ]
     },
     "metadata": {
      "image/png": {
       "height": 600,
       "width": 1200
      }
     },
     "output_type": "display_data"
    }
   ],
   "source": [
    "options(repr.plot.width =20, repr.plot.height =10)\n",
    "\n",
    "boxplot(heart$age ~ heart$num,\n",
    "        main=\"Fate by Age\",\n",
    "         ylab=\"Age\",xlab=\"Heart disease\", cex.lab=4, cex.axis=3, cex.main=3)"
   ]
  },
  {
   "cell_type": "code",
   "execution_count": 212,
   "id": "cb637e1a",
   "metadata": {},
   "outputs": [
    {
     "data": {
      "image/png": "[encoded data removed]",
      "text/plain": [
       "plot without title"
      ]
     },
     "metadata": {
      "image/png": {
       "height": 600,
       "width": 1200
      }
     },
     "output_type": "display_data"
    }
   ],
   "source": [
    "options(repr.plot.width =20, repr.plot.height =10)\n",
    "\n",
    "\n",
    "# Bar Plot for target (heart disease)\n",
    "\n",
    "ggplot(data2, aes(x=target, fill=target))+\n",
    "   geom_bar()+\n",
    "   xlab(\"Heart Disease\")+\n",
    "   ylab(\"count\")+\n",
    "   ggtitle(\"Presence & Absence of Heart Disease\")+\n",
    "   scale_fill_discrete(name= 'Heart Disease', labels =c(\"Absence\", \"Presence\")) +\n",
    "   theme(text=element_text(size=35))"
   ]
  },
  {
   "cell_type": "markdown",
   "id": "f47ff56b",
   "metadata": {},
   "source": [
    "## Checking target col values"
   ]
  },
  {
   "cell_type": "code",
   "execution_count": 213,
   "id": "d860d8f8",
   "metadata": {
    "scrolled": true
   },
   "outputs": [
    {
     "data": {
      "text/plain": [
       "\n",
       "       NO       YES \n",
       "0.4554455 0.5445545 "
      ]
     },
     "metadata": {},
     "output_type": "display_data"
    }
   ],
   "source": [
    "prop.table(table(data2$target))"
   ]
  },
  {
   "cell_type": "code",
   "execution_count": 232,
   "id": "8d4f1abf",
   "metadata": {},
   "outputs": [
    {
     "data": {
      "image/png": "[encoded data removed]",
      "text/plain": [
       "plot without title"
      ]
     },
     "metadata": {
      "image/png": {
       "height": 600,
       "width": 1200
      }
     },
     "output_type": "display_data"
    }
   ],
   "source": [
    "# count the frequency of the values of age\n",
    "\n",
    "data2 %>%\n",
    "  group_by(age) %>%\n",
    "  count() %>%\n",
    "  filter(n>10) %>%\n",
    "  ggplot()+\n",
    "  geom_col(aes(age, n), fill = 'red')+\n",
    "  ggtitle(\"Age Analysis\")+\n",
    "  xlab(\"Age\")+\n",
    "  ylab(\"Agecount\") +\n",
    "  theme(text=element_text(size=35))"
   ]
  },
  {
   "cell_type": "code",
   "execution_count": 233,
   "id": "0be72378",
   "metadata": {},
   "outputs": [
    {
     "data": {
      "image/png": "[encoded data removed]",
      "text/plain": [
       "plot without title"
      ]
     },
     "metadata": {
      "image/png": {
       "height": 600,
       "width": 1200
      }
     },
     "output_type": "display_data"
    }
   ],
   "source": [
    "# count the frequency of the values of age\n",
    "\n",
    "data2 %>%\n",
    "  group_by(age) %>%\n",
    "  count() %>%\n",
    "  filter(n>10) %>%\n",
    "  ggplot()+\n",
    "  geom_col(aes(age, n), fill = 'blue')+\n",
    "  ggtitle(\"Age Analysis\")+\n",
    "  xlab(\"Age\")+\n",
    "  ylab(\"Agecount\") +\n",
    "  theme(text=element_text(size=35))"
   ]
  },
  {
   "cell_type": "code",
   "execution_count": 234,
   "id": "14abadba",
   "metadata": {},
   "outputs": [
    {
     "data": {
      "image/png": "[encoded data removed]",
      "text/plain": [
       "plot without title"
      ]
     },
     "metadata": {
      "image/png": {
       "height": 600,
       "width": 1200
      }
     },
     "output_type": "display_data"
    }
   ],
   "source": [
    "data2 %>%\n",
    "  ggplot(aes(x=sex, y=trestbps))+\n",
    "  geom_boxplot(fill ='brown')+\n",
    "  xlab('sex')+\n",
    "  ylab('BP')+\n",
    "  facet_grid(~cp)+\n",
    "  theme(text=element_text(size=35))"
   ]
  },
  {
   "cell_type": "code",
   "execution_count": 235,
   "id": "bb6e2982",
   "metadata": {},
   "outputs": [
    {
     "data": {
      "image/png": "[encoded data removed]",
      "text/plain": [
       "plot without title"
      ]
     },
     "metadata": {
      "image/png": {
       "height": 600,
       "width": 1200
      }
     },
     "output_type": "display_data"
    }
   ],
   "source": [
    "data2 %>%\n",
    "  ggplot(aes(x=sex, y=chol))+\n",
    "  geom_boxplot(fill ='purple')+\n",
    "  xlab('sex')+\n",
    "  ylab('Chol')+\n",
    "  facet_grid(~cp) +\n",
    "  theme(text=element_text(size=35))"
   ]
  },
  {
   "cell_type": "markdown",
   "id": "6df03db5",
   "metadata": {},
   "source": [
    "## Correlation"
   ]
  },
  {
   "cell_type": "code",
   "execution_count": 236,
   "id": "7bce33c8",
   "metadata": {},
   "outputs": [
    {
     "data": {
      "text/html": [
       "<table class=\"dataframe\">\n",
       "<caption>A matrix: 5 × 5 of type dbl</caption>\n",
       "<thead>\n",
       "\t<tr><th></th><th scope=col>age</th><th scope=col>trestbps</th><th scope=col>chol</th><th scope=col>thalach</th><th scope=col>oldpeak</th></tr>\n",
       "</thead>\n",
       "<tbody>\n",
       "\t<tr><th scope=row>age</th><td> 1.0000000</td><td> 0.27935091</td><td> 0.213677957</td><td>-0.398521938</td><td> 0.21001257</td></tr>\n",
       "\t<tr><th scope=row>trestbps</th><td> 0.2793509</td><td> 1.00000000</td><td> 0.123174207</td><td>-0.046697728</td><td> 0.19321647</td></tr>\n",
       "\t<tr><th scope=row>chol</th><td> 0.2136780</td><td> 0.12317421</td><td> 1.000000000</td><td>-0.009939839</td><td> 0.05395192</td></tr>\n",
       "\t<tr><th scope=row>thalach</th><td>-0.3985219</td><td>-0.04669773</td><td>-0.009939839</td><td> 1.000000000</td><td>-0.34418695</td></tr>\n",
       "\t<tr><th scope=row>oldpeak</th><td> 0.2100126</td><td> 0.19321647</td><td> 0.053951920</td><td>-0.344186948</td><td> 1.00000000</td></tr>\n",
       "</tbody>\n",
       "</table>\n"
      ],
      "text/latex": [
       "A matrix: 5 × 5 of type dbl\n",
       "\\begin{tabular}{r|lllll}\n",
       "  & age & trestbps & chol & thalach & oldpeak\\\\\n",
       "\\hline\n",
       "\tage &  1.0000000 &  0.27935091 &  0.213677957 & -0.398521938 &  0.21001257\\\\\n",
       "\ttrestbps &  0.2793509 &  1.00000000 &  0.123174207 & -0.046697728 &  0.19321647\\\\\n",
       "\tchol &  0.2136780 &  0.12317421 &  1.000000000 & -0.009939839 &  0.05395192\\\\\n",
       "\tthalach & -0.3985219 & -0.04669773 & -0.009939839 &  1.000000000 & -0.34418695\\\\\n",
       "\toldpeak &  0.2100126 &  0.19321647 &  0.053951920 & -0.344186948 &  1.00000000\\\\\n",
       "\\end{tabular}\n"
      ],
      "text/markdown": [
       "\n",
       "A matrix: 5 × 5 of type dbl\n",
       "\n",
       "| <!--/--> | age | trestbps | chol | thalach | oldpeak |\n",
       "|---|---|---|---|---|---|\n",
       "| age |  1.0000000 |  0.27935091 |  0.213677957 | -0.398521938 |  0.21001257 |\n",
       "| trestbps |  0.2793509 |  1.00000000 |  0.123174207 | -0.046697728 |  0.19321647 |\n",
       "| chol |  0.2136780 |  0.12317421 |  1.000000000 | -0.009939839 |  0.05395192 |\n",
       "| thalach | -0.3985219 | -0.04669773 | -0.009939839 |  1.000000000 | -0.34418695 |\n",
       "| oldpeak |  0.2100126 |  0.19321647 |  0.053951920 | -0.344186948 |  1.00000000 |\n",
       "\n"
      ],
      "text/plain": [
       "         age        trestbps    chol         thalach      oldpeak    \n",
       "age       1.0000000  0.27935091  0.213677957 -0.398521938  0.21001257\n",
       "trestbps  0.2793509  1.00000000  0.123174207 -0.046697728  0.19321647\n",
       "chol      0.2136780  0.12317421  1.000000000 -0.009939839  0.05395192\n",
       "thalach  -0.3985219 -0.04669773 -0.009939839  1.000000000 -0.34418695\n",
       "oldpeak   0.2100126  0.19321647  0.053951920 -0.344186948  1.00000000"
      ]
     },
     "metadata": {},
     "output_type": "display_data"
    }
   ],
   "source": [
    "cor_heart <- cor(data2[, 10:14])\n",
    "cor_heart"
   ]
  },
  {
   "cell_type": "code",
   "execution_count": 237,
   "id": "8df25088",
   "metadata": {},
   "outputs": [
    {
     "data": {
      "text/plain": [
       "NULL"
      ]
     },
     "metadata": {},
     "output_type": "display_data"
    },
    {
     "data": {
      "image/png": "[encoded data removed]",
      "text/plain": [
       "Plot with title \"\""
      ]
     },
     "metadata": {
      "image/png": {
       "height": 600,
       "width": 1200
      }
     },
     "output_type": "display_data"
    }
   ],
   "source": [
    "corrplot(cor_heart, method ='ellipse') +\n",
    "   theme(text=element_text(size=35))"
   ]
  },
  {
   "cell_type": "markdown",
   "id": "96ce6368",
   "metadata": {},
   "source": [
    "## Checking for na values"
   ]
  },
  {
   "cell_type": "code",
   "execution_count": 238,
   "id": "871ace1e",
   "metadata": {},
   "outputs": [],
   "source": [
    "s = sum(is.na(data2))"
   ]
  },
  {
   "cell_type": "code",
   "execution_count": 239,
   "id": "4b9fdb8e",
   "metadata": {},
   "outputs": [
    {
     "data": {
      "text/html": [
       "0"
      ],
      "text/latex": [
       "0"
      ],
      "text/markdown": [
       "0"
      ],
      "text/plain": [
       "[1] 0"
      ]
     },
     "metadata": {},
     "output_type": "display_data"
    }
   ],
   "source": [
    "s"
   ]
  },
  {
   "cell_type": "markdown",
   "id": "d63fa4a7",
   "metadata": {},
   "source": [
    "## Logistic Regression"
   ]
  },
  {
   "cell_type": "code",
   "execution_count": 240,
   "id": "edf513c4",
   "metadata": {},
   "outputs": [],
   "source": [
    "library(caret)\n",
    "library(lattice)\n",
    "set.seed(10)"
   ]
  },
  {
   "cell_type": "code",
   "execution_count": 241,
   "id": "f16da111",
   "metadata": {},
   "outputs": [
    {
     "data": {
      "text/html": [
       "0.702970297029703"
      ],
      "text/latex": [
       "0.702970297029703"
      ],
      "text/markdown": [
       "0.702970297029703"
      ],
      "text/plain": [
       "[1] 0.7029703"
      ]
     },
     "metadata": {},
     "output_type": "display_data"
    }
   ],
   "source": [
    "inTrainRows <- createDataPartition(data2$target,p=0.7,list=FALSE)\n",
    "trainData <- data2[inTrainRows,]\n",
    "testData <-  data2[-inTrainRows,]\n",
    "nrow(trainData)/(nrow(testData)+nrow(trainData))"
   ]
  },
  {
   "cell_type": "code",
   "execution_count": 242,
   "id": "2d8d98c5",
   "metadata": {},
   "outputs": [],
   "source": [
    "AUC = list()\n",
    "Accuracy = list()"
   ]
  },
  {
   "cell_type": "code",
   "execution_count": 243,
   "id": "92e93306",
   "metadata": {},
   "outputs": [
    {
     "name": "stderr",
     "output_type": "stream",
     "text": [
      "Warning message in predict.lm(object, newdata, se.fit, scale = 1, type = if (type == :\n",
      "\"prediction from a rank-deficient fit may be misleading\"\n",
      "Warning message in predict.lm(object, newdata, se.fit, scale = 1, type = if (type == :\n",
      "\"prediction from a rank-deficient fit may be misleading\"\n",
      "Warning message in predict.lm(object, newdata, se.fit, scale = 1, type = if (type == :\n",
      "\"prediction from a rank-deficient fit may be misleading\"\n",
      "Warning message in predict.lm(object, newdata, se.fit, scale = 1, type = if (type == :\n",
      "\"prediction from a rank-deficient fit may be misleading\"\n",
      "Warning message:\n",
      "\"glm.fit: fitted probabilities numerically 0 or 1 occurred\"\n"
     ]
    },
    {
     "ename": "ERROR",
     "evalue": "Error in roc(as.numeric(target), as.numeric(as.matrix((logRegPredictionprob)))): object 'target' not found\n",
     "output_type": "error",
     "traceback": [
      "Error in roc(as.numeric(target), as.numeric(as.matrix((logRegPredictionprob)))): object 'target' not found\nTraceback:\n",
      "1. roc(as.numeric(target), as.numeric(as.matrix((logRegPredictionprob))))"
     ]
    }
   ],
   "source": [
    "set.seed(100)\n",
    "logRegModel <- train(target ~ ., data=trainData, method = 'glm', family = 'binomial')\n",
    "logRegPrediction <- predict(logRegModel, testData)\n",
    "logRegPredictionprob <- predict(logRegModel, testData, type='prob')[2]\n",
    "logRegConfMat <- confusionMatrix(logRegPrediction, testData[,\"target\"])\n",
    "#ROC Curve\n",
    "library(pROC)\n",
    "AUC$logReg <- roc(as.numeric(target),as.numeric(as.matrix((logRegPredictionprob))))$auc\n",
    "Accuracy$logReg <- logRegConfMat$overall['Accuracy'] "
   ]
  },
  {
   "cell_type": "code",
   "execution_count": 244,
   "id": "9ced3328",
   "metadata": {},
   "outputs": [
    {
     "name": "stderr",
     "output_type": "stream",
     "text": [
      "Installing package into 'C:/Users/abhis/AppData/Local/R/win-library/4.2'\n",
      "(as 'lib' is unspecified)\n",
      "\n"
     ]
    },
    {
     "name": "stdout",
     "output_type": "stream",
     "text": [
      "package 'e1071' successfully unpacked and MD5 sums checked\n"
     ]
    },
    {
     "name": "stderr",
     "output_type": "stream",
     "text": [
      "Warning message:\n",
      "\"cannot remove prior installation of package 'e1071'\"\n",
      "Warning message in file.copy(savedcopy, lib, recursive = TRUE):\n",
      "\"problem copying C:\\Users\\abhis\\AppData\\Local\\R\\win-library\\4.2\\00LOCK\\e1071\\libs\\x64\\e1071.dll to C:\\Users\\abhis\\AppData\\Local\\R\\win-library\\4.2\\e1071\\libs\\x64\\e1071.dll: Permission denied\"\n",
      "Warning message:\n",
      "\"restored 'e1071'\"\n"
     ]
    },
    {
     "name": "stdout",
     "output_type": "stream",
     "text": [
      "\n",
      "The downloaded binary packages are in\n",
      "\tC:\\Users\\abhis\\AppData\\Local\\Temp\\Rtmp8SfRTc\\downloaded_packages\n"
     ]
    }
   ],
   "source": [
    "install.packages('e1071', dependencies=TRUE)"
   ]
  },
  {
   "cell_type": "code",
   "execution_count": 245,
   "id": "1f742fb7",
   "metadata": {
    "scrolled": true
   },
   "outputs": [
    {
     "name": "stderr",
     "output_type": "stream",
     "text": [
      "Warning message in predict.lm(object, newdata, se.fit, scale = 1, type = if (type == :\n",
      "\"prediction from a rank-deficient fit may be misleading\"\n",
      "Warning message in predict.lm(object, newdata, se.fit, scale = 1, type = if (type == :\n",
      "\"prediction from a rank-deficient fit may be misleading\"\n",
      "Warning message in predict.lm(object, newdata, se.fit, scale = 1, type = if (type == :\n",
      "\"prediction from a rank-deficient fit may be misleading\"\n",
      "Warning message in predict.lm(object, newdata, se.fit, scale = 1, type = if (type == :\n",
      "\"prediction from a rank-deficient fit may be misleading\"\n",
      "Setting levels: control = 1, case = 2\n",
      "\n",
      "Setting direction: controls < cases\n",
      "\n"
     ]
    }
   ],
   "source": [
    "set.seed(10)\n",
    "logRegModel <- train(target ~ ., data=trainData, method = 'glm', family = 'binomial')\n",
    "logRegPrediction <- predict(logRegModel, testData)\n",
    "logRegPredictionprob <- predict(logRegModel, testData, type='prob')[2]\n",
    "logRegConfMat <- confusionMatrix(logRegPrediction, testData[,\"target\"])\n",
    "#ROC Curve\n",
    "library(pROC)\n",
    "AUC$logReg <- roc(as.numeric(testData$target),as.numeric(as.matrix((logRegPredictionprob))))$auc\n",
    "Accuracy$logReg <- logRegConfMat$overall['Accuracy']"
   ]
  },
  {
   "cell_type": "code",
   "execution_count": 246,
   "id": "169bba5a",
   "metadata": {},
   "outputs": [
    {
     "data": {
      "text/html": [
       "0.929815828770533"
      ],
      "text/latex": [
       "0.929815828770533"
      ],
      "text/markdown": [
       "0.929815828770533"
      ],
      "text/plain": [
       "Area under the curve: 0.9298"
      ]
     },
     "metadata": {},
     "output_type": "display_data"
    }
   ],
   "source": [
    "AUC$logReg"
   ]
  },
  {
   "cell_type": "code",
   "execution_count": 247,
   "id": "7fc89d46",
   "metadata": {},
   "outputs": [
    {
     "data": {
      "text/html": [
       "<strong>Accuracy:</strong> 0.866666666666667"
      ],
      "text/latex": [
       "\\textbf{Accuracy:} 0.866666666666667"
      ],
      "text/markdown": [
       "**Accuracy:** 0.866666666666667"
      ],
      "text/plain": [
       " Accuracy \n",
       "0.8666667 "
      ]
     },
     "metadata": {},
     "output_type": "display_data"
    }
   ],
   "source": [
    "Accuracy$logReg"
   ]
  },
  {
   "cell_type": "markdown",
   "id": "902d9b7a",
   "metadata": {},
   "source": [
    "## Support Vector Machine"
   ]
  },
  {
   "cell_type": "code",
   "execution_count": 248,
   "id": "2db7a841",
   "metadata": {},
   "outputs": [
    {
     "ename": "ERROR",
     "evalue": "Error in predict.train(svmModel, testData2): object 'testData2' not found\n",
     "output_type": "error",
     "traceback": [
      "Error in predict.train(svmModel, testData2): object 'testData2' not found\nTraceback:\n",
      "1. predict(svmModel, testData2)",
      "2. predict(svmModel, testData2)",
      "3. predict.train(svmModel, testData2)"
     ]
    }
   ],
   "source": [
    "set.seed(10)\n",
    "svmModel <- train(target ~ ., data = trainData,\n",
    "                 method = \"svmRadial\",\n",
    "                 trControl = fitControl,\n",
    "                 preProcess = c(\"center\", \"scale\"),\n",
    "                 tuneLength = 8,\n",
    "                 metric = \"ROC\")\n",
    "svmPrediction <- predict(svmModel, testData2)\n",
    "svmPredictionprob <- predict(svmModel, testData2, type='prob')[2]\n",
    "svmConfMat <- confusionMatrix(svmPrediction, testData2[,\"target\"])\n",
    "#ROC Curve\n",
    "AUC$svm <- roc(as.numeric(testData2$target),as.numeric(as.matrix((svmPredictionprob))))$auc\n",
    "Accuracy$svm <- svmConfMat$overall['Accuracy']"
   ]
  },
  {
   "cell_type": "code",
   "execution_count": 249,
   "id": "9866ecca",
   "metadata": {},
   "outputs": [
    {
     "data": {
      "text/plain": [
       "NULL"
      ]
     },
     "metadata": {},
     "output_type": "display_data"
    }
   ],
   "source": [
    "AUC$svm"
   ]
  },
  {
   "cell_type": "code",
   "execution_count": 250,
   "id": "f8b16530",
   "metadata": {},
   "outputs": [
    {
     "data": {
      "text/plain": [
       "NULL"
      ]
     },
     "metadata": {},
     "output_type": "display_data"
    }
   ],
   "source": [
    "Accuracy$svm"
   ]
  },
  {
   "cell_type": "code",
   "execution_count": 251,
   "id": "623aa664",
   "metadata": {},
   "outputs": [],
   "source": [
    "library(kernlab)"
   ]
  },
  {
   "cell_type": "code",
   "execution_count": 252,
   "id": "dc204fea",
   "metadata": {},
   "outputs": [],
   "source": [
    "fitControl <- trainControl(method = \"repeatedcv\",\n",
    "                           number = 10,\n",
    "                           repeats = 10,\n",
    "                           classProbs = TRUE,\n",
    "                           summaryFunction = twoClassSummary)"
   ]
  },
  {
   "cell_type": "code",
   "execution_count": 253,
   "id": "3e30ec99",
   "metadata": {},
   "outputs": [
    {
     "name": "stderr",
     "output_type": "stream",
     "text": [
      "Setting levels: control = 1, case = 2\n",
      "\n",
      "Setting direction: controls < cases\n",
      "\n"
     ]
    }
   ],
   "source": [
    "set.seed(10)\n",
    "svmModel <- train(target ~ ., data = trainData,\n",
    "                 method = \"svmRadial\",\n",
    "                 trControl = fitControl,\n",
    "                 preProcess = c(\"center\", \"scale\"),\n",
    "                 tuneLength = 8,\n",
    "                 metric = \"ROC\")\n",
    "svmPrediction <- predict(svmModel, testData)\n",
    "svmPredictionprob <- predict(svmModel, testData, type='prob')[2]\n",
    "svmConfMat <- confusionMatrix(svmPrediction, testData[,\"target\"])\n",
    "#ROC Curve\n",
    "AUC$svm <- roc(as.numeric(testData$target),as.numeric(as.matrix((svmPredictionprob))))$auc\n",
    "Accuracy$svm <- svmConfMat$overall['Accuracy']"
   ]
  },
  {
   "cell_type": "code",
   "execution_count": 254,
   "id": "b0b85381",
   "metadata": {},
   "outputs": [
    {
     "data": {
      "text/html": [
       "0.895968143354903"
      ],
      "text/latex": [
       "0.895968143354903"
      ],
      "text/markdown": [
       "0.895968143354903"
      ],
      "text/plain": [
       "Area under the curve: 0.896"
      ]
     },
     "metadata": {},
     "output_type": "display_data"
    }
   ],
   "source": [
    "AUC$svm"
   ]
  },
  {
   "cell_type": "code",
   "execution_count": 255,
   "id": "9d29f08a",
   "metadata": {},
   "outputs": [
    {
     "data": {
      "text/html": [
       "<strong>Accuracy:</strong> 0.811111111111111"
      ],
      "text/latex": [
       "\\textbf{Accuracy:} 0.811111111111111"
      ],
      "text/markdown": [
       "**Accuracy:** 0.811111111111111"
      ],
      "text/plain": [
       " Accuracy \n",
       "0.8111111 "
      ]
     },
     "metadata": {},
     "output_type": "display_data"
    }
   ],
   "source": [
    "Accuracy$svm"
   ]
  },
  {
   "cell_type": "markdown",
   "id": "c5b7ef32",
   "metadata": {},
   "source": [
    "## Random Forest"
   ]
  },
  {
   "cell_type": "code",
   "execution_count": 256,
   "id": "64d5575f",
   "metadata": {},
   "outputs": [
    {
     "name": "stderr",
     "output_type": "stream",
     "text": [
      "Setting levels: control = 1, case = 2\n",
      "\n",
      "Setting direction: controls < cases\n",
      "\n"
     ]
    }
   ],
   "source": [
    "library(randomForest)\n",
    "set.seed(10)\n",
    "RFModel <- randomForest(target ~ .,\n",
    "                    data=trainData, \n",
    "                    importance=TRUE, \n",
    "                    ntree=200)\n",
    "#varImpPlot(RFModel)\n",
    "RFPrediction <- predict(RFModel, testData)\n",
    "RFPredictionprob = predict(RFModel,testData,type=\"prob\")[, 2]\n",
    "\n",
    "RFConfMat <- confusionMatrix(RFPrediction, testData[,\"target\"])\n",
    "\n",
    "AUC$RF <- roc(as.numeric(testData$target),as.numeric(as.matrix((RFPredictionprob))))$auc\n",
    "Accuracy$RF <- RFConfMat$overall['Accuracy']"
   ]
  },
  {
   "cell_type": "markdown",
   "id": "8a6e5443",
   "metadata": {},
   "source": [
    "## Comparison of AUC and Accuracy between models"
   ]
  },
  {
   "cell_type": "code",
   "execution_count": 257,
   "id": "db5c2db3",
   "metadata": {},
   "outputs": [
    {
     "data": {
      "text/html": [
       "<table class=\"dataframe\">\n",
       "<caption>A data.frame: 3 × 2</caption>\n",
       "<thead>\n",
       "\t<tr><th></th><th scope=col>AUC</th><th scope=col>Accuracy</th></tr>\n",
       "\t<tr><th></th><th scope=col>&lt;named list&gt;</th><th scope=col>&lt;named list&gt;</th></tr>\n",
       "</thead>\n",
       "<tbody>\n",
       "\t<tr><th scope=row>logReg</th><td>0.9298158</td><td>0.8666667</td></tr>\n",
       "\t<tr><th scope=row>svm</th><td>0.8959681</td><td>0.8111111</td></tr>\n",
       "\t<tr><th scope=row>RF</th><td>0.888004</td><td>0.8333333</td></tr>\n",
       "</tbody>\n",
       "</table>\n"
      ],
      "text/latex": [
       "A data.frame: 3 × 2\n",
       "\\begin{tabular}{r|ll}\n",
       "  & AUC & Accuracy\\\\\n",
       "  & <named list> & <named list>\\\\\n",
       "\\hline\n",
       "\tlogReg & 0.9298158 & 0.8666667\\\\\n",
       "\tsvm & 0.8959681 & 0.8111111\\\\\n",
       "\tRF & 0.888004 & 0.8333333\\\\\n",
       "\\end{tabular}\n"
      ],
      "text/markdown": [
       "\n",
       "A data.frame: 3 × 2\n",
       "\n",
       "| <!--/--> | AUC &lt;named list&gt; | Accuracy &lt;named list&gt; |\n",
       "|---|---|---|\n",
       "| logReg | 0.9298158 | 0.8666667 |\n",
       "| svm | 0.8959681 | 0.8111111 |\n",
       "| RF | 0.888004 | 0.8333333 |\n",
       "\n"
      ],
      "text/plain": [
       "       AUC       Accuracy \n",
       "logReg 0.9298158 0.8666667\n",
       "svm    0.8959681 0.8111111\n",
       "RF     0.888004  0.8333333"
      ]
     },
     "metadata": {},
     "output_type": "display_data"
    }
   ],
   "source": [
    "row.names <- names(Accuracy)\n",
    "col.names <- c(\"AUC\", \"Accuracy\")\n",
    "cbind(as.data.frame(matrix(c(AUC,Accuracy),nrow = 3, ncol = 2,\n",
    "                           dimnames = list(row.names, col.names))))"
   ]
  },
  {
   "cell_type": "markdown",
   "id": "092c6f41",
   "metadata": {},
   "source": [
    "## Summary of Logistic Regression Model"
   ]
  },
  {
   "cell_type": "code",
   "execution_count": 258,
   "id": "98837d9b",
   "metadata": {
    "scrolled": true
   },
   "outputs": [
    {
     "data": {
      "text/html": [
       "<table class=\"dataframe\">\n",
       "<caption>A matrix: 22 × 4 of type dbl</caption>\n",
       "<thead>\n",
       "\t<tr><th></th><th scope=col>Estimate</th><th scope=col>Std. Error</th><th scope=col>z value</th><th scope=col>Pr(&gt;|z|)</th></tr>\n",
       "</thead>\n",
       "<tbody>\n",
       "\t<tr><th scope=row>(Intercept)</th><td>-1.002901016</td><td>3.672817206</td><td>-0.2730604</td><td>0.784806770</td></tr>\n",
       "\t<tr><th scope=row>sexMALE</th><td>-1.108411204</td><td>0.629831168</td><td>-1.7598545</td><td>0.078432483</td></tr>\n",
       "\t<tr><th scope=row>`fbs&gt;120`</th><td> 0.099727473</td><td>0.695895093</td><td> 0.1433082</td><td>0.886046780</td></tr>\n",
       "\t<tr><th scope=row>exangYES</th><td>-1.053668716</td><td>0.507650309</td><td>-2.0755798</td><td>0.037932833</td></tr>\n",
       "\t<tr><th scope=row>`cpATYPICAL ANGINA`</th><td> 0.576785085</td><td>0.673929885</td><td> 0.8558533</td><td>0.392078955</td></tr>\n",
       "\t<tr><th scope=row>`cpNON-ANGINAL PAIN`</th><td> 1.766764364</td><td>0.599090285</td><td> 2.9490786</td><td>0.003187229</td></tr>\n",
       "\t<tr><th scope=row>restecgNORMAL</th><td>-0.389889283</td><td>0.467477322</td><td>-0.8340282</td><td>0.404265076</td></tr>\n",
       "\t<tr><th scope=row>`restecgPROBABLE OR DEFINITE`</th><td>-1.405550323</td><td>2.763325521</td><td>-0.5086445</td><td>0.611001432</td></tr>\n",
       "\t<tr><th scope=row>slope1</th><td>-0.176704487</td><td>0.989144482</td><td>-0.1786438</td><td>0.858217433</td></tr>\n",
       "\t<tr><th scope=row>slope2</th><td> 0.553034654</td><td>1.061991982</td><td> 0.5207522</td><td>0.602539410</td></tr>\n",
       "\t<tr><th scope=row>ca1</th><td>-1.777145318</td><td>0.645108941</td><td>-2.7547988</td><td>0.005872824</td></tr>\n",
       "\t<tr><th scope=row>ca2</th><td>-2.268238705</td><td>0.808616253</td><td>-2.8050867</td><td>0.005030305</td></tr>\n",
       "\t<tr><th scope=row>ca3</th><td>-2.851293357</td><td>1.147811970</td><td>-2.4841119</td><td>0.012987499</td></tr>\n",
       "\t<tr><th scope=row>ca4</th><td> 0.817409952</td><td>1.767412707</td><td> 0.4624896</td><td>0.643730277</td></tr>\n",
       "\t<tr><th scope=row>thal1</th><td> 1.772336190</td><td>2.339184935</td><td> 0.7576725</td><td>0.448647042</td></tr>\n",
       "\t<tr><th scope=row>thal2</th><td> 2.237791893</td><td>2.162634801</td><td> 1.0347526</td><td>0.300784484</td></tr>\n",
       "\t<tr><th scope=row>thal3</th><td> 0.673386827</td><td>2.171206001</td><td> 0.3101441</td><td>0.756451344</td></tr>\n",
       "\t<tr><th scope=row>age</th><td> 0.024663417</td><td>0.028647254</td><td> 0.8609348</td><td>0.389273970</td></tr>\n",
       "\t<tr><th scope=row>trestbps</th><td>-0.010674095</td><td>0.013843176</td><td>-0.7710727</td><td>0.440663869</td></tr>\n",
       "\t<tr><th scope=row>chol</th><td>-0.005737794</td><td>0.005450973</td><td>-1.0526183</td><td>0.292515980</td></tr>\n",
       "\t<tr><th scope=row>thalach</th><td> 0.019342446</td><td>0.014618446</td><td> 1.3231533</td><td>0.185784397</td></tr>\n",
       "\t<tr><th scope=row>oldpeak</th><td>-0.374070565</td><td>0.296307740</td><td>-1.2624394</td><td>0.206790721</td></tr>\n",
       "</tbody>\n",
       "</table>\n"
      ],
      "text/latex": [
       "A matrix: 22 × 4 of type dbl\n",
       "\\begin{tabular}{r|llll}\n",
       "  & Estimate & Std. Error & z value & Pr(>\\textbar{}z\\textbar{})\\\\\n",
       "\\hline\n",
       "\t(Intercept) & -1.002901016 & 3.672817206 & -0.2730604 & 0.784806770\\\\\n",
       "\tsexMALE & -1.108411204 & 0.629831168 & -1.7598545 & 0.078432483\\\\\n",
       "\t`fbs>120` &  0.099727473 & 0.695895093 &  0.1433082 & 0.886046780\\\\\n",
       "\texangYES & -1.053668716 & 0.507650309 & -2.0755798 & 0.037932833\\\\\n",
       "\t`cpATYPICAL ANGINA` &  0.576785085 & 0.673929885 &  0.8558533 & 0.392078955\\\\\n",
       "\t`cpNON-ANGINAL PAIN` &  1.766764364 & 0.599090285 &  2.9490786 & 0.003187229\\\\\n",
       "\trestecgNORMAL & -0.389889283 & 0.467477322 & -0.8340282 & 0.404265076\\\\\n",
       "\t`restecgPROBABLE OR DEFINITE` & -1.405550323 & 2.763325521 & -0.5086445 & 0.611001432\\\\\n",
       "\tslope1 & -0.176704487 & 0.989144482 & -0.1786438 & 0.858217433\\\\\n",
       "\tslope2 &  0.553034654 & 1.061991982 &  0.5207522 & 0.602539410\\\\\n",
       "\tca1 & -1.777145318 & 0.645108941 & -2.7547988 & 0.005872824\\\\\n",
       "\tca2 & -2.268238705 & 0.808616253 & -2.8050867 & 0.005030305\\\\\n",
       "\tca3 & -2.851293357 & 1.147811970 & -2.4841119 & 0.012987499\\\\\n",
       "\tca4 &  0.817409952 & 1.767412707 &  0.4624896 & 0.643730277\\\\\n",
       "\tthal1 &  1.772336190 & 2.339184935 &  0.7576725 & 0.448647042\\\\\n",
       "\tthal2 &  2.237791893 & 2.162634801 &  1.0347526 & 0.300784484\\\\\n",
       "\tthal3 &  0.673386827 & 2.171206001 &  0.3101441 & 0.756451344\\\\\n",
       "\tage &  0.024663417 & 0.028647254 &  0.8609348 & 0.389273970\\\\\n",
       "\ttrestbps & -0.010674095 & 0.013843176 & -0.7710727 & 0.440663869\\\\\n",
       "\tchol & -0.005737794 & 0.005450973 & -1.0526183 & 0.292515980\\\\\n",
       "\tthalach &  0.019342446 & 0.014618446 &  1.3231533 & 0.185784397\\\\\n",
       "\toldpeak & -0.374070565 & 0.296307740 & -1.2624394 & 0.206790721\\\\\n",
       "\\end{tabular}\n"
      ],
      "text/markdown": [
       "\n",
       "A matrix: 22 × 4 of type dbl\n",
       "\n",
       "| <!--/--> | Estimate | Std. Error | z value | Pr(&gt;|z|) |\n",
       "|---|---|---|---|---|\n",
       "| (Intercept) | -1.002901016 | 3.672817206 | -0.2730604 | 0.784806770 |\n",
       "| sexMALE | -1.108411204 | 0.629831168 | -1.7598545 | 0.078432483 |\n",
       "| `fbs&gt;120` |  0.099727473 | 0.695895093 |  0.1433082 | 0.886046780 |\n",
       "| exangYES | -1.053668716 | 0.507650309 | -2.0755798 | 0.037932833 |\n",
       "| `cpATYPICAL ANGINA` |  0.576785085 | 0.673929885 |  0.8558533 | 0.392078955 |\n",
       "| `cpNON-ANGINAL PAIN` |  1.766764364 | 0.599090285 |  2.9490786 | 0.003187229 |\n",
       "| restecgNORMAL | -0.389889283 | 0.467477322 | -0.8340282 | 0.404265076 |\n",
       "| `restecgPROBABLE OR DEFINITE` | -1.405550323 | 2.763325521 | -0.5086445 | 0.611001432 |\n",
       "| slope1 | -0.176704487 | 0.989144482 | -0.1786438 | 0.858217433 |\n",
       "| slope2 |  0.553034654 | 1.061991982 |  0.5207522 | 0.602539410 |\n",
       "| ca1 | -1.777145318 | 0.645108941 | -2.7547988 | 0.005872824 |\n",
       "| ca2 | -2.268238705 | 0.808616253 | -2.8050867 | 0.005030305 |\n",
       "| ca3 | -2.851293357 | 1.147811970 | -2.4841119 | 0.012987499 |\n",
       "| ca4 |  0.817409952 | 1.767412707 |  0.4624896 | 0.643730277 |\n",
       "| thal1 |  1.772336190 | 2.339184935 |  0.7576725 | 0.448647042 |\n",
       "| thal2 |  2.237791893 | 2.162634801 |  1.0347526 | 0.300784484 |\n",
       "| thal3 |  0.673386827 | 2.171206001 |  0.3101441 | 0.756451344 |\n",
       "| age |  0.024663417 | 0.028647254 |  0.8609348 | 0.389273970 |\n",
       "| trestbps | -0.010674095 | 0.013843176 | -0.7710727 | 0.440663869 |\n",
       "| chol | -0.005737794 | 0.005450973 | -1.0526183 | 0.292515980 |\n",
       "| thalach |  0.019342446 | 0.014618446 |  1.3231533 | 0.185784397 |\n",
       "| oldpeak | -0.374070565 | 0.296307740 | -1.2624394 | 0.206790721 |\n",
       "\n"
      ],
      "text/plain": [
       "                              Estimate     Std. Error  z value    Pr(>|z|)   \n",
       "(Intercept)                   -1.002901016 3.672817206 -0.2730604 0.784806770\n",
       "sexMALE                       -1.108411204 0.629831168 -1.7598545 0.078432483\n",
       "`fbs>120`                      0.099727473 0.695895093  0.1433082 0.886046780\n",
       "exangYES                      -1.053668716 0.507650309 -2.0755798 0.037932833\n",
       "`cpATYPICAL ANGINA`            0.576785085 0.673929885  0.8558533 0.392078955\n",
       "`cpNON-ANGINAL PAIN`           1.766764364 0.599090285  2.9490786 0.003187229\n",
       "restecgNORMAL                 -0.389889283 0.467477322 -0.8340282 0.404265076\n",
       "`restecgPROBABLE OR DEFINITE` -1.405550323 2.763325521 -0.5086445 0.611001432\n",
       "slope1                        -0.176704487 0.989144482 -0.1786438 0.858217433\n",
       "slope2                         0.553034654 1.061991982  0.5207522 0.602539410\n",
       "ca1                           -1.777145318 0.645108941 -2.7547988 0.005872824\n",
       "ca2                           -2.268238705 0.808616253 -2.8050867 0.005030305\n",
       "ca3                           -2.851293357 1.147811970 -2.4841119 0.012987499\n",
       "ca4                            0.817409952 1.767412707  0.4624896 0.643730277\n",
       "thal1                          1.772336190 2.339184935  0.7576725 0.448647042\n",
       "thal2                          2.237791893 2.162634801  1.0347526 0.300784484\n",
       "thal3                          0.673386827 2.171206001  0.3101441 0.756451344\n",
       "age                            0.024663417 0.028647254  0.8609348 0.389273970\n",
       "trestbps                      -0.010674095 0.013843176 -0.7710727 0.440663869\n",
       "chol                          -0.005737794 0.005450973 -1.0526183 0.292515980\n",
       "thalach                        0.019342446 0.014618446  1.3231533 0.185784397\n",
       "oldpeak                       -0.374070565 0.296307740 -1.2624394 0.206790721"
      ]
     },
     "metadata": {},
     "output_type": "display_data"
    }
   ],
   "source": [
    "summary(logRegModel)$coeff"
   ]
  },
  {
   "cell_type": "markdown",
   "id": "54bcc9d4",
   "metadata": {},
   "source": [
    "## Confusion Matrix"
   ]
  },
  {
   "cell_type": "markdown",
   "id": "40e276c3",
   "metadata": {},
   "source": [
    "## Logistic Regression Confusion Matrix"
   ]
  },
  {
   "cell_type": "code",
   "execution_count": 259,
   "id": "b1679979",
   "metadata": {},
   "outputs": [
    {
     "data": {
      "text/plain": [
       "Confusion Matrix and Statistics\n",
       "\n",
       "          Reference\n",
       "Prediction NO YES\n",
       "       NO  34   5\n",
       "       YES  7  44\n",
       "                                          \n",
       "               Accuracy : 0.8667          \n",
       "                 95% CI : (0.7787, 0.9292)\n",
       "    No Information Rate : 0.5444          \n",
       "    P-Value [Acc > NIR] : 6.754e-11       \n",
       "                                          \n",
       "                  Kappa : 0.7301          \n",
       "                                          \n",
       " Mcnemar's Test P-Value : 0.7728          \n",
       "                                          \n",
       "            Sensitivity : 0.8293          \n",
       "            Specificity : 0.8980          \n",
       "         Pos Pred Value : 0.8718          \n",
       "         Neg Pred Value : 0.8627          \n",
       "             Prevalence : 0.4556          \n",
       "         Detection Rate : 0.3778          \n",
       "   Detection Prevalence : 0.4333          \n",
       "      Balanced Accuracy : 0.8636          \n",
       "                                          \n",
       "       'Positive' Class : NO              \n",
       "                                          "
      ]
     },
     "metadata": {},
     "output_type": "display_data"
    }
   ],
   "source": [
    "logRegConfMat"
   ]
  },
  {
   "cell_type": "markdown",
   "id": "2912b664",
   "metadata": {},
   "source": [
    "## Random Forest Confusion Matrix"
   ]
  },
  {
   "cell_type": "code",
   "execution_count": 260,
   "id": "ee84e20f",
   "metadata": {
    "scrolled": true
   },
   "outputs": [
    {
     "data": {
      "text/plain": [
       "Confusion Matrix and Statistics\n",
       "\n",
       "          Reference\n",
       "Prediction NO YES\n",
       "       NO  31   5\n",
       "       YES 10  44\n",
       "                                        \n",
       "               Accuracy : 0.8333        \n",
       "                 95% CI : (0.74, 0.9036)\n",
       "    No Information Rate : 0.5444        \n",
       "    P-Value [Acc > NIR] : 7.067e-09     \n",
       "                                        \n",
       "                  Kappa : 0.6606        \n",
       "                                        \n",
       " Mcnemar's Test P-Value : 0.3017        \n",
       "                                        \n",
       "            Sensitivity : 0.7561        \n",
       "            Specificity : 0.8980        \n",
       "         Pos Pred Value : 0.8611        \n",
       "         Neg Pred Value : 0.8148        \n",
       "             Prevalence : 0.4556        \n",
       "         Detection Rate : 0.3444        \n",
       "   Detection Prevalence : 0.4000        \n",
       "      Balanced Accuracy : 0.8270        \n",
       "                                        \n",
       "       'Positive' Class : NO            \n",
       "                                        "
      ]
     },
     "metadata": {},
     "output_type": "display_data"
    }
   ],
   "source": [
    "RFConfMat"
   ]
  },
  {
   "cell_type": "markdown",
   "id": "1587eccc",
   "metadata": {},
   "source": [
    "## Support Vector Machine Confusion Matrix"
   ]
  },
  {
   "cell_type": "code",
   "execution_count": 261,
   "id": "21d3dd3f",
   "metadata": {
    "scrolled": true
   },
   "outputs": [
    {
     "data": {
      "text/plain": [
       "Confusion Matrix and Statistics\n",
       "\n",
       "          Reference\n",
       "Prediction NO YES\n",
       "       NO  34  10\n",
       "       YES  7  39\n",
       "                                          \n",
       "               Accuracy : 0.8111          \n",
       "                 95% CI : (0.7149, 0.8859)\n",
       "    No Information Rate : 0.5444          \n",
       "    P-Value [Acc > NIR] : 1.061e-07       \n",
       "                                          \n",
       "                  Kappa : 0.6215          \n",
       "                                          \n",
       " Mcnemar's Test P-Value : 0.6276          \n",
       "                                          \n",
       "            Sensitivity : 0.8293          \n",
       "            Specificity : 0.7959          \n",
       "         Pos Pred Value : 0.7727          \n",
       "         Neg Pred Value : 0.8478          \n",
       "             Prevalence : 0.4556          \n",
       "         Detection Rate : 0.3778          \n",
       "   Detection Prevalence : 0.4889          \n",
       "      Balanced Accuracy : 0.8126          \n",
       "                                          \n",
       "       'Positive' Class : NO              \n",
       "                                          "
      ]
     },
     "metadata": {},
     "output_type": "display_data"
    }
   ],
   "source": [
    "svmConfMat"
   ]
  },
  {
   "cell_type": "markdown",
   "id": "6f6ad647",
   "metadata": {},
   "source": [
    "## Analysis of the area under the ROC and the accuracy of the model predictions shows that Logistic Regression performs best (accuracy 0.87). \n",
    "## ``````````````````````````````````````````````````````````````````````````````````````````````````````````````````````````````"
   ]
  },
  {
   "cell_type": "markdown",
   "id": "90187359",
   "metadata": {},
   "source": [
    "## Appendix"
   ]
  },
  {
   "cell_type": "code",
   "execution_count": 263,
   "id": "9b669094",
   "metadata": {},
   "outputs": [
    {
     "data": {
      "text/plain": [
       "Support Vector Machines with Radial Basis Function Kernel \n",
       "\n",
       "213 samples\n",
       " 13 predictor\n",
       "  2 classes: 'NO', 'YES' \n",
       "\n",
       "Pre-processing: centered (21), scaled (21) \n",
       "Resampling: Cross-Validated (10 fold, repeated 10 times) \n",
       "Summary of sample sizes: 192, 191, 192, 191, 191, 192, ... \n",
       "Resampling results across tuning parameters:\n",
       "\n",
       "  C      ROC        Sens       Spec     \n",
       "   0.25  0.8931086  0.7932222  0.8209848\n",
       "   0.50  0.8915732  0.7793333  0.8158333\n",
       "   1.00  0.8862449  0.7752222  0.8150758\n",
       "   2.00  0.8792449  0.7640000  0.8148485\n",
       "   4.00  0.8750690  0.7561111  0.8243182\n",
       "   8.00  0.8634268  0.7355556  0.8124242\n",
       "  16.00  0.8549369  0.7375556  0.8090152\n",
       "  32.00  0.8463476  0.7334444  0.7888636\n",
       "\n",
       "Tuning parameter 'sigma' was held constant at a value of 0.03015848\n",
       "ROC was used to select the optimal model using the largest value.\n",
       "The final values used for the model were sigma = 0.03015848 and C = 0.25."
      ]
     },
     "metadata": {},
     "output_type": "display_data"
    }
   ],
   "source": [
    "svmModel"
   ]
  },
  {
   "cell_type": "code",
   "execution_count": 264,
   "id": "d2a35e7c",
   "metadata": {},
   "outputs": [
    {
     "data": {
      "text/plain": [
       "\n",
       "Call:\n",
       " randomForest(formula = target ~ ., data = trainData, importance = TRUE,      ntree = 200) \n",
       "               Type of random forest: classification\n",
       "                     Number of trees: 200\n",
       "No. of variables tried at each split: 3\n",
       "\n",
       "        OOB estimate of  error rate: 17.37%\n",
       "Confusion matrix:\n",
       "    NO YES class.error\n",
       "NO  75  22   0.2268041\n",
       "YES 15 101   0.1293103"
      ]
     },
     "metadata": {},
     "output_type": "display_data"
    }
   ],
   "source": [
    "RFModel"
   ]
  },
  {
   "cell_type": "code",
   "execution_count": 265,
   "id": "48fc69b8",
   "metadata": {},
   "outputs": [
    {
     "data": {
      "text/plain": [
       "Generalized Linear Model \n",
       "\n",
       "213 samples\n",
       " 13 predictor\n",
       "  2 classes: 'NO', 'YES' \n",
       "\n",
       "No pre-processing\n",
       "Resampling: Bootstrapped (25 reps) \n",
       "Summary of sample sizes: 213, 213, 213, 213, 213, 213, ... \n",
       "Resampling results:\n",
       "\n",
       "  Accuracy   Kappa    \n",
       "  0.7843334  0.5653839\n"
      ]
     },
     "metadata": {},
     "output_type": "display_data"
    }
   ],
   "source": [
    "logRegModel"
   ]
  },
  {
   "cell_type": "code",
   "execution_count": 266,
   "id": "a6c29640",
   "metadata": {},
   "outputs": [
    {
     "data": {
      "text/plain": [
       "\n",
       "Call:\n",
       "NULL\n",
       "\n",
       "Deviance Residuals: \n",
       "    Min       1Q   Median       3Q      Max  \n",
       "-2.7165  -0.3515   0.1469   0.4582   2.7599  \n",
       "\n",
       "Coefficients:\n",
       "                               Estimate Std. Error z value Pr(>|z|)   \n",
       "(Intercept)                   -1.002901   3.672817  -0.273  0.78481   \n",
       "sexMALE                       -1.108411   0.629831  -1.760  0.07843 . \n",
       "`fbs>120`                      0.099727   0.695895   0.143  0.88605   \n",
       "exangYES                      -1.053669   0.507650  -2.076  0.03793 * \n",
       "`cpATYPICAL ANGINA`            0.576785   0.673930   0.856  0.39208   \n",
       "`cpNON-ANGINAL PAIN`           1.766764   0.599090   2.949  0.00319 **\n",
       "restecgNORMAL                 -0.389889   0.467477  -0.834  0.40427   \n",
       "`restecgPROBABLE OR DEFINITE` -1.405550   2.763326  -0.509  0.61100   \n",
       "slope1                        -0.176704   0.989144  -0.179  0.85822   \n",
       "slope2                         0.553035   1.061992   0.521  0.60254   \n",
       "ca1                           -1.777145   0.645109  -2.755  0.00587 **\n",
       "ca2                           -2.268239   0.808616  -2.805  0.00503 **\n",
       "ca3                           -2.851293   1.147812  -2.484  0.01299 * \n",
       "ca4                            0.817410   1.767413   0.462  0.64373   \n",
       "thal1                          1.772336   2.339185   0.758  0.44865   \n",
       "thal2                          2.237792   2.162635   1.035  0.30078   \n",
       "thal3                          0.673387   2.171206   0.310  0.75645   \n",
       "age                            0.024663   0.028647   0.861  0.38927   \n",
       "trestbps                      -0.010674   0.013843  -0.771  0.44066   \n",
       "chol                          -0.005738   0.005451  -1.053  0.29252   \n",
       "thalach                        0.019342   0.014618   1.323  0.18578   \n",
       "oldpeak                       -0.374071   0.296308  -1.262  0.20679   \n",
       "---\n",
       "Signif. codes:  0 '***' 0.001 '**' 0.01 '*' 0.05 '.' 0.1 ' ' 1\n",
       "\n",
       "(Dispersion parameter for binomial family taken to be 1)\n",
       "\n",
       "    Null deviance: 293.58  on 212  degrees of freedom\n",
       "Residual deviance: 136.48  on 191  degrees of freedom\n",
       "AIC: 180.48\n",
       "\n",
       "Number of Fisher Scoring iterations: 6\n"
      ]
     },
     "metadata": {},
     "output_type": "display_data"
    }
   ],
   "source": [
    "summary(logRegModel)"
   ]
  },
  {
   "cell_type": "code",
   "execution_count": 267,
   "id": "feeb5f1b",
   "metadata": {},
   "outputs": [
    {
     "data": {
      "text/plain": [
       "Length  Class   Mode \n",
       "     1   ksvm     S4 "
      ]
     },
     "metadata": {},
     "output_type": "display_data"
    }
   ],
   "source": [
    "summary(svmModel)"
   ]
  },
  {
   "cell_type": "code",
   "execution_count": 268,
   "id": "d60c1b6a",
   "metadata": {},
   "outputs": [
    {
     "data": {
      "text/plain": [
       "                Length Class  Mode     \n",
       "call              5    -none- call     \n",
       "type              1    -none- character\n",
       "predicted       213    factor numeric  \n",
       "err.rate        600    -none- numeric  \n",
       "confusion         6    -none- numeric  \n",
       "votes           426    matrix numeric  \n",
       "oob.times       213    -none- numeric  \n",
       "classes           2    -none- character\n",
       "importance       52    -none- numeric  \n",
       "importanceSD     39    -none- numeric  \n",
       "localImportance   0    -none- NULL     \n",
       "proximity         0    -none- NULL     \n",
       "ntree             1    -none- numeric  \n",
       "mtry              1    -none- numeric  \n",
       "forest           14    -none- list     \n",
       "y               213    factor numeric  \n",
       "test              0    -none- NULL     \n",
       "inbag             0    -none- NULL     \n",
       "terms             3    terms  call     "
      ]
     },
     "metadata": {},
     "output_type": "display_data"
    }
   ],
   "source": [
    "summary(RFModel)"
   ]
  },
  {
   "cell_type": "markdown",
   "id": "7ff94e98",
   "metadata": {},
   "source": [
    "## ------------------------------------------------------- THE END ----------------------------------------------------------"
   ]
  },
  {
   "cell_type": "code",
   "execution_count": null,
   "id": "054759af",
   "metadata": {},
   "outputs": [],
   "source": []
  }
 ],
 "metadata": {
  "kernelspec": {
   "display_name": "R 4.2.0",
   "language": "R",
   "name": "ir42"
  },
  "language_info": {
   "codemirror_mode": "r",
   "file_extension": ".r",
   "mimetype": "text/x-r-source",
   "name": "R",
   "pygments_lexer": "r",
   "version": "4.2.0"
  }
 },
 "nbformat": 4,
 "nbformat_minor": 5
}
